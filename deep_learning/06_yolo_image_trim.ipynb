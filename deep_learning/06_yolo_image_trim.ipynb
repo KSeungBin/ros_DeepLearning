{
  "nbformat": 4,
  "nbformat_minor": 0,
  "metadata": {
    "colab": {
      "name": "06_yolo_image_trim.ipynb",
      "provenance": [],
      "collapsed_sections": [],
      "include_colab_link": true
    },
    "kernelspec": {
      "display_name": "Python 3",
      "name": "python3"
    },
    "language_info": {
      "name": "python"
    },
    "accelerator": "GPU"
  },
  "cells": [
    {
      "cell_type": "markdown",
      "metadata": {
        "id": "view-in-github",
        "colab_type": "text"
      },
      "source": [
        "<a href=\"https://colab.research.google.com/github/KSeungBin/ros_deeplearning/blob/master/06_yolo_image_trim.ipynb\" target=\"_parent\"><img src=\"https://colab.research.google.com/assets/colab-badge.svg\" alt=\"Open In Colab\"/></a>"
      ]
    },
    {
      "cell_type": "code",
      "metadata": {
        "colab": {
          "base_uri": "https://localhost:8080/"
        },
        "id": "PRQili4Hoequ",
        "outputId": "3dc53c1c-741c-4d21-b566-d368263805a5"
      },
      "source": [
        "from google.colab import drive\n",
        "drive.mount('/content/drive')"
      ],
      "execution_count": 1,
      "outputs": [
        {
          "output_type": "stream",
          "name": "stdout",
          "text": [
            "Mounted at /content/drive\n"
          ]
        }
      ]
    },
    {
      "cell_type": "code",
      "metadata": {
        "id": "R3oeFZMXoxr0",
        "colab": {
          "base_uri": "https://localhost:8080/"
        },
        "outputId": "57be0c22-0aae-4323-d861-6a84323b2656"
      },
      "source": [
        "!pwd   # ! : linux command"
      ],
      "execution_count": 2,
      "outputs": [
        {
          "output_type": "stream",
          "name": "stdout",
          "text": [
            "/content\n"
          ]
        }
      ]
    },
    {
      "cell_type": "code",
      "metadata": {
        "id": "QcuhZO3Cn5t2"
      },
      "source": [
        "!mkdir data"
      ],
      "execution_count": 3,
      "outputs": []
    },
    {
      "cell_type": "code",
      "metadata": {
        "id": "f3S9xXYlqSEF"
      },
      "source": [
        "!ls ./data"
      ],
      "execution_count": 4,
      "outputs": []
    },
    {
      "cell_type": "code",
      "metadata": {
        "id": "O5kTuB5Nn7kS"
      },
      "source": [
        "%cp /content/drive/MyDrive/data/racing.mp4 ./data   # cp 등의 특정한 명령어는 !가 아닌 %로 시작해야 함: racing.mp4를 data 디렉토리로 옮기기"
      ],
      "execution_count": 6,
      "outputs": []
    },
    {
      "cell_type": "markdown",
      "metadata": {
        "id": "_qDAUJeztNZM"
      },
      "source": [
        "#이미지 트림"
      ]
    },
    {
      "cell_type": "code",
      "metadata": {
        "colab": {
          "base_uri": "https://localhost:8080/"
        },
        "id": "hAdY-jT-oEhn",
        "outputId": "c787e149-ec87-4032-e600-d3a70fd3b5e9"
      },
      "source": [
        "!ffmpeg -i /content/data/racing.mp4 -ss 00:00 -to 00:05 /content/data/racing_trim.mp4  # ffmpeg : 영상의 0부터 5초 사이를 잘라내기 "
      ],
      "execution_count": 7,
      "outputs": [
        {
          "output_type": "stream",
          "name": "stdout",
          "text": [
            "ffmpeg version 3.4.8-0ubuntu0.2 Copyright (c) 2000-2020 the FFmpeg developers\n",
            "  built with gcc 7 (Ubuntu 7.5.0-3ubuntu1~18.04)\n",
            "  configuration: --prefix=/usr --extra-version=0ubuntu0.2 --toolchain=hardened --libdir=/usr/lib/x86_64-linux-gnu --incdir=/usr/include/x86_64-linux-gnu --enable-gpl --disable-stripping --enable-avresample --enable-avisynth --enable-gnutls --enable-ladspa --enable-libass --enable-libbluray --enable-libbs2b --enable-libcaca --enable-libcdio --enable-libflite --enable-libfontconfig --enable-libfreetype --enable-libfribidi --enable-libgme --enable-libgsm --enable-libmp3lame --enable-libmysofa --enable-libopenjpeg --enable-libopenmpt --enable-libopus --enable-libpulse --enable-librubberband --enable-librsvg --enable-libshine --enable-libsnappy --enable-libsoxr --enable-libspeex --enable-libssh --enable-libtheora --enable-libtwolame --enable-libvorbis --enable-libvpx --enable-libwavpack --enable-libwebp --enable-libx265 --enable-libxml2 --enable-libxvid --enable-libzmq --enable-libzvbi --enable-omx --enable-openal --enable-opengl --enable-sdl2 --enable-libdc1394 --enable-libdrm --enable-libiec61883 --enable-chromaprint --enable-frei0r --enable-libopencv --enable-libx264 --enable-shared\n",
            "  libavutil      55. 78.100 / 55. 78.100\n",
            "  libavcodec     57.107.100 / 57.107.100\n",
            "  libavformat    57. 83.100 / 57. 83.100\n",
            "  libavdevice    57. 10.100 / 57. 10.100\n",
            "  libavfilter     6.107.100 /  6.107.100\n",
            "  libavresample   3.  7.  0 /  3.  7.  0\n",
            "  libswscale      4.  8.100 /  4.  8.100\n",
            "  libswresample   2.  9.100 /  2.  9.100\n",
            "  libpostproc    54.  7.100 / 54.  7.100\n",
            "Input #0, matroska,webm, from '/content/data/racing.mp4':\n",
            "  Metadata:\n",
            "    encoder         : google/video-file\n",
            "  Duration: 00:07:27.12, start: 0.000000, bitrate: 562 kb/s\n",
            "    Stream #0:0(eng): Video: vp9 (Profile 0), yuv420p(tv, bt709), 854x480, SAR 1:1 DAR 427:240, 25 fps, 25 tbr, 1k tbn, 1k tbc (default)\n",
            "Stream mapping:\n",
            "  Stream #0:0 -> #0:0 (vp9 (native) -> h264 (libx264))\n",
            "Press [q] to stop, [?] for help\n",
            "\u001b[1;36m[libx264 @ 0x564f1cac9900] \u001b[0musing SAR=1/1\n",
            "\u001b[1;36m[libx264 @ 0x564f1cac9900] \u001b[0musing cpu capabilities: MMX2 SSE2Fast SSSE3 SSE4.2 AVX FMA3 BMI2 AVX2\n",
            "\u001b[1;36m[libx264 @ 0x564f1cac9900] \u001b[0mprofile High, level 3.0\n",
            "\u001b[1;36m[libx264 @ 0x564f1cac9900] \u001b[0m264 - core 152 r2854 e9a5903 - H.264/MPEG-4 AVC codec - Copyleft 2003-2017 - http://www.videolan.org/x264.html - options: cabac=1 ref=3 deblock=1:0:0 analyse=0x3:0x113 me=hex subme=7 psy=1 psy_rd=1.00:0.00 mixed_ref=1 me_range=16 chroma_me=1 trellis=1 8x8dct=1 cqm=0 deadzone=21,11 fast_pskip=1 chroma_qp_offset=-2 threads=3 lookahead_threads=1 sliced_threads=0 nr=0 decimate=1 interlaced=0 bluray_compat=0 constrained_intra=0 bframes=3 b_pyramid=2 b_adapt=1 b_bias=0 direct=1 weightb=1 open_gop=0 weightp=2 keyint=250 keyint_min=25 scenecut=40 intra_refresh=0 rc_lookahead=40 rc=crf mbtree=1 crf=23.0 qcomp=0.60 qpmin=0 qpmax=69 qpstep=4 ip_ratio=1.40 aq=1:1.00\n",
            "Output #0, mp4, to '/content/data/racing_trim.mp4':\n",
            "  Metadata:\n",
            "    encoder         : Lavf57.83.100\n",
            "    Stream #0:0(eng): Video: h264 (libx264) (avc1 / 0x31637661), yuv420p, 854x480 [SAR 1:1 DAR 427:240], q=-1--1, 25 fps, 12800 tbn, 25 tbc (default)\n",
            "    Metadata:\n",
            "      encoder         : Lavc57.107.100 libx264\n",
            "    Side data:\n",
            "      cpb: bitrate max/min/avg: 0/0/0 buffer size: 0 vbv_delay: -1\n",
            "frame=  125 fps= 40 q=-1.0 Lsize=     712kB time=00:00:04.88 bitrate=1195.8kbits/s speed=1.58x    \n",
            "video:710kB audio:0kB subtitle:0kB other streams:0kB global headers:0kB muxing overhead: 0.307620%\n",
            "\u001b[1;36m[libx264 @ 0x564f1cac9900] \u001b[0mframe I:2     Avg QP:21.24  size: 47166\n",
            "\u001b[1;36m[libx264 @ 0x564f1cac9900] \u001b[0mframe P:44    Avg QP:23.55  size:  9077\n",
            "\u001b[1;36m[libx264 @ 0x564f1cac9900] \u001b[0mframe B:79    Avg QP:27.75  size:  2947\n",
            "\u001b[1;36m[libx264 @ 0x564f1cac9900] \u001b[0mconsecutive B-frames: 12.0%  8.0%  9.6% 70.4%\n",
            "\u001b[1;36m[libx264 @ 0x564f1cac9900] \u001b[0mmb I  I16..4:  4.9% 54.1% 41.0%\n",
            "\u001b[1;36m[libx264 @ 0x564f1cac9900] \u001b[0mmb P  I16..4:  7.0% 13.8%  1.6%  P16..4: 35.1% 14.9%  7.8%  0.0%  0.0%    skip:19.8%\n",
            "\u001b[1;36m[libx264 @ 0x564f1cac9900] \u001b[0mmb B  I16..4:  0.9%  1.8%  0.2%  B16..8: 45.8%  6.5%  1.4%  direct: 1.6%  skip:41.9%  L0:51.1% L1:41.6% BI: 7.3%\n",
            "\u001b[1;36m[libx264 @ 0x564f1cac9900] \u001b[0m8x8 transform intra:60.9% inter:75.0%\n",
            "\u001b[1;36m[libx264 @ 0x564f1cac9900] \u001b[0mcoded y,uvDC,uvAC intra: 47.0% 48.1% 17.1% inter: 13.4% 9.8% 1.4%\n",
            "\u001b[1;36m[libx264 @ 0x564f1cac9900] \u001b[0mi16 v,h,dc,p: 12% 43%  6% 39%\n",
            "\u001b[1;36m[libx264 @ 0x564f1cac9900] \u001b[0mi8 v,h,dc,ddl,ddr,vr,hd,vl,hu: 18% 36% 20%  4%  3%  3%  4%  4%  9%\n",
            "\u001b[1;36m[libx264 @ 0x564f1cac9900] \u001b[0mi4 v,h,dc,ddl,ddr,vr,hd,vl,hu: 25% 33% 13%  5%  4%  4%  5%  5%  6%\n",
            "\u001b[1;36m[libx264 @ 0x564f1cac9900] \u001b[0mi8c dc,h,v,p: 54% 26% 15%  6%\n",
            "\u001b[1;36m[libx264 @ 0x564f1cac9900] \u001b[0mWeighted P-Frames: Y:0.0% UV:0.0%\n",
            "\u001b[1;36m[libx264 @ 0x564f1cac9900] \u001b[0mref P L0: 67.0% 16.4% 11.2%  5.4%\n",
            "\u001b[1;36m[libx264 @ 0x564f1cac9900] \u001b[0mref B L0: 94.1%  4.9%  1.0%\n",
            "\u001b[1;36m[libx264 @ 0x564f1cac9900] \u001b[0mref B L1: 97.8%  2.2%\n",
            "\u001b[1;36m[libx264 @ 0x564f1cac9900] \u001b[0mkb/s:1162.41\n"
          ]
        }
      ]
    },
    {
      "cell_type": "code",
      "metadata": {
        "id": "GU7G6juxWUOd",
        "colab": {
          "base_uri": "https://localhost:8080/"
        },
        "outputId": "ba59f5cf-f248-4956-db44-ce5c580faeaf"
      },
      "source": [
        "!ls ./data"
      ],
      "execution_count": 8,
      "outputs": [
        {
          "output_type": "stream",
          "name": "stdout",
          "text": [
            "racing.mp4  racing_trim.mp4\n"
          ]
        }
      ]
    },
    {
      "cell_type": "code",
      "metadata": {
        "id": "H5lJcQYBJfOY"
      },
      "source": [
        "%cp /content/data/racing_trim.mp4 /content/drive/MyDrive/data/    # 영상이 삭제되지 않도록 구글 드라이브에 저장"
      ],
      "execution_count": 9,
      "outputs": []
    },
    {
      "cell_type": "code",
      "metadata": {
        "id": "1RVsHHqwrQ2H"
      },
      "source": [
        "!ffmpeg -i /content/data/racing.mp4 -ss 01:00 -to 01:05 /content/data/racing_trim_01.mp4   # racing.mp4 영상의 1분부터 1분 5초 사이의 영상을 잘라낸다\n",
        "!ls ./data\n",
        "%cp /content/data/racing_trim_01.mp4 /content/drive/MyDrive/data/ "
      ],
      "execution_count": null,
      "outputs": []
    }
  ]
}
