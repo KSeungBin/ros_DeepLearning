{
  "nbformat": 4,
  "nbformat_minor": 0,
  "metadata": {
    "colab": {
      "name": "09_yolo_tank_train.ipynb",
      "provenance": [],
      "collapsed_sections": [],
      "include_colab_link": true
    },
    "kernelspec": {
      "display_name": "Python 3",
      "name": "python3"
    },
    "language_info": {
      "name": "python"
    },
    "accelerator": "GPU"
  },
  "cells": [
    {
      "cell_type": "markdown",
      "metadata": {
        "id": "view-in-github",
        "colab_type": "text"
      },
      "source": [
        "<a href=\"https://colab.research.google.com/github/KSeungBin/ros_deeplearning/blob/master/09_yolo_tank_train.ipynb\" target=\"_parent\"><img src=\"https://colab.research.google.com/assets/colab-badge.svg\" alt=\"Open In Colab\"/></a>"
      ]
    },
    {
      "cell_type": "code",
      "metadata": {
        "id": "PRQili4Hoequ"
      },
      "source": [
        "# 나의 google drive와 연동(MyDrive의 data 디렉토리 사용할 것)\n",
        "from google.colab import drive\n",
        "drive.mount('/content/drive')"
      ],
      "execution_count": null,
      "outputs": []
    },
    {
      "cell_type": "code",
      "metadata": {
        "id": "GQYvRv6GmfaN"
      },
      "source": [
        "!git clone https://github.com/AlexeyAB/darknet\n",
        "%cd darknet\n",
        "!sed -i 's/OPENCV=0/OPENCV=1/' Makefile\n",
        "!sed -i 's/GPU=0/GPU=1/' Makefile\n",
        "!sed -i 's/CUDNN=0/CUDNN=1/' Makefile\n",
        "!sed -i 's/CUDNN_HALF=0/CUDNN_HALF=1/' Makefile\n",
        "!make"
      ],
      "execution_count": null,
      "outputs": []
    },
    {
      "cell_type": "code",
      "metadata": {
        "id": "lfCVxLMt3X44"
      },
      "source": [
        "%matplotlib inline\n",
        "def imShow(path):\n",
        "  import cv2\n",
        "  import matplotlib.pyplot as plt\n",
        "  %matplotlib inline\n",
        "\n",
        "  image = cv2.imread(path)\n",
        "  height, width = image.shape[:2]\n",
        "  #확대시 공백을 채울때 방법 채텍 : interpolation cubic 주변의 color를 참조하여 보간\n",
        "  resized_image = cv2.resize(image,(3*width, 3*height), interpolation = cv2.INTER_CUBIC)\n",
        "\n",
        "  fig = plt.gcf() # get current figure  출력종이\n",
        "  fig.set_size_inches(18, 10)\n",
        "  plt.axis(\"off\")\n",
        "  plt.imshow(cv2.cvtColor(resized_image, cv2.COLOR_BGR2RGB))\n",
        "  plt.show()\n",
        "\n",
        "def upload():\n",
        "  from google.colab import files\n",
        "  uploaded = files.upload()\n",
        "  for name, data in uploaded.items():\n",
        "    with open(name, 'wb') as f:\n",
        "      f.write(data)\n",
        "      print ('saved file', name)\n",
        "\n",
        "def download(path):\n",
        "  from google.colab import files\n",
        "  files.download(path) "
      ],
      "execution_count": null,
      "outputs": []
    },
    {
      "cell_type": "code",
      "metadata": {
        "id": "ty2Pc8iS6471"
      },
      "source": [
        "!cp /content/drive/MyDrive/data/obj_tank.zip ../\n",
        "!cp /content/drive/MyDrive/data/test_tank.zip ../\n",
        "\n",
        "#!cp /content/drive/MyDrive/tank_5_data/tank_5_obj.zip ../\n",
        "#!cp /content/drive/MyDrive/tank_5_data/tank_5_obj.zip ../"
      ],
      "execution_count": null,
      "outputs": []
    },
    {
      "cell_type": "code",
      "metadata": {
        "id": "n1-kX07e_Ee4"
      },
      "source": [
        "!unzip ../obj_tank.zip -d data/obj/\n",
        "!unzip ../test_tank.zip -d data/test/"
      ],
      "execution_count": null,
      "outputs": []
    },
    {
      "cell_type": "code",
      "metadata": {
        "id": "CoDpV3Wx_FyY"
      },
      "source": [
        "!pwd"
      ],
      "execution_count": null,
      "outputs": []
    },
    {
      "cell_type": "code",
      "metadata": {
        "id": "oVqUUKGG8l8P"
      },
      "source": [
        "!cp /content/drive/MyDrive/data/yolov4-obj_tank.cfg ./cfg"
      ],
      "execution_count": null,
      "outputs": []
    },
    {
      "cell_type": "code",
      "metadata": {
        "id": "IVLghfVy9V_a"
      },
      "source": [
        "!cp /content/drive/MyDrive/data/obj_tank.data ./cfg\n",
        "!cp /content/drive/MyDrive/data/obj_tank.names ./data"
      ],
      "execution_count": null,
      "outputs": []
    },
    {
      "cell_type": "code",
      "metadata": {
        "id": "7tPiodtl99HY"
      },
      "source": [
        "!cp /content/drive/MyDrive/data/generate_tank_train.py ./\n",
        "!cp /content/drive/MyDrive/data/generate_tank_test.py ./"
      ],
      "execution_count": null,
      "outputs": []
    },
    {
      "cell_type": "code",
      "metadata": {
        "id": "P9xu0-eA-HAi"
      },
      "source": [
        "!python generate_tank_train.py\n",
        "!python generate_tank_test.py"
      ],
      "execution_count": null,
      "outputs": []
    },
    {
      "cell_type": "markdown",
      "metadata": {
        "id": "5msYItyZ8atD"
      },
      "source": [
        "새로운 학습을 위해 필요한 yolov4.conv.137  pre-trained 가중치 파일을 다운로드"
      ]
    },
    {
      "cell_type": "code",
      "metadata": {
        "id": "iBPtBRWf-N9T"
      },
      "source": [
        "!wget https://github.com/AlexeyAB/darknet/releases/download/darknet_yolo_v3_optimal/yolov4.conv.137"
      ],
      "execution_count": null,
      "outputs": []
    },
    {
      "cell_type": "code",
      "metadata": {
        "id": "DIT8HIPm_OVs"
      },
      "source": [
        "!./darknet detector train cfg/obj_tank.data cfg/yolov4-obj_tank.cfg yolov4.conv.137 -dont_show -map"
      ],
      "execution_count": null,
      "outputs": []
    },
    {
      "cell_type": "markdown",
      "metadata": {
        "id": "9IFaB5c0Hci4"
      },
      "source": [
        "Test 하기"
      ]
    },
    {
      "cell_type": "code",
      "metadata": {
        "id": "G2aBDtmsJoZ7"
      },
      "source": [
        "# 보통은 last보단 best weight file을 사용해 학습 결과를 확인한다\n",
        "#!cp /content/drive/MyDrive/data/yolov4-obj_tank_last.weights .\n",
        "!cp /content/drive/MyDrive/data/yolov4-obj_tank_best.weights ."
      ],
      "execution_count": null,
      "outputs": []
    },
    {
      "cell_type": "markdown",
      "metadata": {
        "id": "aV_il2ThPHpk"
      },
      "source": [
        "Internet에서 tank bus truck을 다운로드 받는다."
      ]
    },
    {
      "cell_type": "code",
      "metadata": {
        "id": "egWT--i8Fnjr"
      },
      "source": [
        "!./darknet detector test cfg/obj_tank.data cfg/yolov4-obj_tank.cfg yolov4-obj_tank_last.weights ../90_01.jpg"
      ],
      "execution_count": null,
      "outputs": []
    },
    {
      "cell_type": "code",
      "metadata": {
        "id": "1wphd6TsOB_V"
      },
      "source": [
        "imShow('predictions.jpg')"
      ],
      "execution_count": null,
      "outputs": []
    },
    {
      "cell_type": "code",
      "metadata": {
        "id": "w4IOejqQgVvz"
      },
      "source": [
        "!./darknet detector test cfg/obj_tank.data cfg/yolov4-obj_tank.cfg yolov4-obj_tank_last.weights ../K1A1_01.jpg\n",
        "imShow('predictions.jpg')"
      ],
      "execution_count": null,
      "outputs": []
    },
    {
      "cell_type": "markdown",
      "metadata": {
        "id": "ErhuZFkSeZrp"
      },
      "source": [
        ""
      ]
    },
    {
      "cell_type": "code",
      "metadata": {
        "id": "F8dogithgZtS"
      },
      "source": [
        "!./darknet detector test cfg/obj_tank.data cfg/yolov4-obj_tank.cfg yolov4-obj_tank_last.weights ../K2_01.jpg\n",
        "imShow('predictions.jpg')"
      ],
      "execution_count": null,
      "outputs": []
    },
    {
      "cell_type": "code",
      "metadata": {
        "id": "Wi0-bl77yjjF"
      },
      "source": [
        "!./darknet detector test  cfg/obj_tank.data cfg/yolov4-obj_tank.cfg yolov4-obj_tank_last.weights ../M1A2_01.jpg\n",
        "imShow('predictions.jpg')"
      ],
      "execution_count": null,
      "outputs": []
    },
    {
      "cell_type": "code",
      "metadata": {
        "id": "qEEqgMROywn7"
      },
      "source": [
        "!./darknet detector test cfg/obj_tank.data cfg/yolov4-obj_tank.cfg yolov4-obj_tank_last.weights ../T-90A_01.jpg\n",
        "imShow('predictions.jpg')"
      ],
      "execution_count": null,
      "outputs": []
    }
  ]
}
